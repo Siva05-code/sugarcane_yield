{
 "cells": [
  {
   "cell_type": "code",
   "execution_count": 1,
   "metadata": {},
   "outputs": [
    {
     "name": "stdout",
     "output_type": "stream",
     "text": [
      "Selected Top 5 Numerical Features: ['Historical_Yield', 'Rainfall', 'Humidity', 'Soil_pH', 'Organic_Content']\n",
      "Mean Squared Error: 12.1577\n",
      "R-Squared Score: 0.7819\n",
      "Model saved successfully!\n",
      "Fitted Scaler saved successfully!\n"
     ]
    }
   ],
   "source": [
    "import pandas as pd\n",
    "import numpy as np\n",
    "import joblib\n",
    "import pickle\n",
    "from sklearn.model_selection import train_test_split\n",
    "from sklearn.ensemble import RandomForestRegressor\n",
    "from sklearn.preprocessing import StandardScaler\n",
    "from sklearn.compose import ColumnTransformer\n",
    "from sklearn.pipeline import Pipeline\n",
    "from sklearn.metrics import mean_squared_error, r2_score\n",
    "\n",
    "# Load dataset\n",
    "df = pd.read_csv(\"yield_dataset.csv\")\n",
    "\n",
    "# Drop unnecessary columns\n",
    "df = df.drop(columns=[\"Farm_ID\", \"Location\", \"Confidence_Interval\"])\n",
    "\n",
    "# Define features and target\n",
    "X = df.drop(columns=[\"Predicted_Yield\"])\n",
    "y = df[\"Predicted_Yield\"]\n",
    "\n",
    "# Identify only numerical features\n",
    "numerical_features = X.select_dtypes(include=[\"float64\", \"int64\"]).columns.tolist()\n",
    "\n",
    "# Compute correlation with the target\n",
    "corr_matrix = df[numerical_features + [\"Predicted_Yield\"]].corr()\n",
    "top_features = (\n",
    "    corr_matrix[\"Predicted_Yield\"]\n",
    "    .abs()\n",
    "    .sort_values(ascending=False)\n",
    "    .index[1:6]\n",
    "    .tolist()\n",
    ")\n",
    "\n",
    "# Keep only the top 5 numerical features\n",
    "X = X[top_features]\n",
    "\n",
    "print(f\"Selected Top 5 Numerical Features: {top_features}\")\n",
    "\n",
    "# Preprocessing pipeline (only for numerical features)\n",
    "preprocessor = ColumnTransformer([\n",
    "    (\"num\", StandardScaler(), top_features)\n",
    "])\n",
    "\n",
    "# Train-test split\n",
    "X_train, X_test, y_train, y_test = train_test_split(X, y, test_size=0.2, random_state=42)\n",
    "\n",
    "# Fit the Preprocessor First\n",
    "preprocessor.fit(X_train)\n",
    "\n",
    "# Transform the data\n",
    "X_train_transformed = preprocessor.transform(X_train)\n",
    "X_test_transformed = preprocessor.transform(X_test)\n",
    "\n",
    "# Convert transformed data back to DataFrame\n",
    "X_train_transformed = pd.DataFrame(X_train_transformed, columns=top_features)\n",
    "X_test_transformed = pd.DataFrame(X_test_transformed, columns=top_features)\n",
    "\n",
    "# Define the model\n",
    "regressor = RandomForestRegressor(n_estimators=300, max_depth=10, random_state=42)\n",
    "\n",
    "# Train the model on transformed data\n",
    "regressor.fit(X_train_transformed, y_train)\n",
    "\n",
    "# Predictions\n",
    "y_pred = regressor.predict(X_test_transformed)\n",
    "\n",
    "# Model evaluation\n",
    "mse = mean_squared_error(y_test, y_pred)\n",
    "r2 = r2_score(y_test, y_pred)\n",
    "\n",
    "print(f\"Mean Squared Error: {mse:.4f}\")\n",
    "print(f\"R-Squared Score: {r2:.4f}\")\n",
    "\n",
    "with open('yield4_prediction_model.pkl', 'wb') as model_file:\n",
    "    pickle.dump(regressor, model_file)\n",
    "print(\"Model saved successfully!\")\n",
    "\n",
    "# Save the fitted preprocessor\n",
    "joblib.dump(preprocessor, \"scaler4.pkl\")\n",
    "print(\"Fitted Scaler saved successfully!\")\n"
   ]
  },
  {
   "cell_type": "code",
   "execution_count": 2,
   "metadata": {},
   "outputs": [
    {
     "name": "stdout",
     "output_type": "stream",
     "text": [
      "<class 'sklearn.compose._column_transformer.ColumnTransformer'>\n",
      "<class 'sklearn.ensemble._forest.RandomForestRegressor'>\n"
     ]
    }
   ],
   "source": [
    "import joblib\n",
    "\n",
    "scaler = joblib.load(\"scaler4.pkl\")\n",
    "print(type(scaler))  \n",
    "\n",
    "model = joblib.load(\"yield4_prediction_model.pkl\")\n",
    "print(type(model))  \n"
   ]
  },
  {
   "cell_type": "code",
   "execution_count": 3,
   "metadata": {},
   "outputs": [
    {
     "name": "stdout",
     "output_type": "stream",
     "text": [
      "Predicted Yield: 63.24406473862279\n"
     ]
    },
    {
     "name": "stderr",
     "output_type": "stream",
     "text": [
      "/Users/sivakarthick/Hub/SYP/sypenv/lib/python3.9/site-packages/sklearn/utils/validation.py:2739: UserWarning: X does not have valid feature names, but RandomForestRegressor was fitted with feature names\n",
      "  warnings.warn(\n"
     ]
    }
   ],
   "source": [
    "import numpy as np\n",
    "import pandas as pd\n",
    "import joblib\n",
    "\n",
    "# Load the trained model and scaler\n",
    "model = joblib.load(\"yield4_prediction_model.pkl\")\n",
    "scaler = joblib.load(\"scaler4.pkl\")  # ColumnTransformer with only numerical scaling\n",
    "\n",
    "# Define new input data (Ensure values match expected range)\n",
    "new_data = pd.DataFrame([[\n",
    "    4.5,   # Historical_Yield\n",
    "    120,   # Rainfall (mm)\n",
    "    80,    # Humidity (%)\n",
    "    6.5,   # Soil_pH\n",
    "    3.2    # Organic_Content (%)\n",
    "]], columns=[\"Historical_Yield\", \"Rainfall\", \"Humidity\", \"Soil_pH\", \"Organic_Content\"])\n",
    "\n",
    "# Apply the same scaling transformation\n",
    "processed_data = scaler.transform(new_data)\n",
    "\n",
    "# Make a prediction\n",
    "prediction = model.predict(processed_data)\n",
    "\n",
    "print(\"Predicted Yield:\", prediction[0])"
   ]
  },
  {
   "cell_type": "code",
   "execution_count": 4,
   "metadata": {},
   "outputs": [
    {
     "name": "stdout",
     "output_type": "stream",
     "text": [
      "Predicted Yield: 63.24406473862279\n"
     ]
    },
    {
     "name": "stderr",
     "output_type": "stream",
     "text": [
      "/Users/sivakarthick/Hub/SYP/sypenv/lib/python3.9/site-packages/sklearn/utils/validation.py:2739: UserWarning: X does not have valid feature names, but RandomForestRegressor was fitted with feature names\n",
      "  warnings.warn(\n"
     ]
    }
   ],
   "source": [
    "import numpy as np\n",
    "import pandas as pd\n",
    "import joblib\n",
    "\n",
    "# Load the trained model and scaler\n",
    "model = joblib.load(\"yield4_prediction_model.pkl\")\n",
    "scaler = joblib.load(\"scaler4.pkl\")  # ColumnTransformer with only numerical scaling\n",
    "\n",
    "# Define new input data (Ensure values match expected range)\n",
    "new_data = pd.DataFrame([[\n",
    "    4.5,   # Historical_Yield\n",
    "    120,   # Rainfall (mm)\n",
    "    80,    # Humidity (%)\n",
    "    6.5,   # Soil_pH\n",
    "    3.2    # Organic_Content (%)\n",
    "]], columns=[\"Historical_Yield\", \"Rainfall\", \"Humidity\", \"Soil_pH\", \"Organic_Content\"])\n",
    "\n",
    "# Apply the same scaling transformation\n",
    "processed_data = scaler.transform(new_data)\n",
    "\n",
    "# Make a prediction\n",
    "prediction = model.predict(processed_data)\n",
    "\n",
    "print(\"Predicted Yield:\", prediction[0])"
   ]
  }
 ],
 "metadata": {
  "kernelspec": {
   "display_name": "sypenv",
   "language": "python",
   "name": "python3"
  },
  "language_info": {
   "codemirror_mode": {
    "name": "ipython",
    "version": 3
   },
   "file_extension": ".py",
   "mimetype": "text/x-python",
   "name": "python",
   "nbconvert_exporter": "python",
   "pygments_lexer": "ipython3",
   "version": "3.9.6"
  }
 },
 "nbformat": 4,
 "nbformat_minor": 2
}
